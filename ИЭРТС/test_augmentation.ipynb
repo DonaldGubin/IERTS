{
 "cells": [
  {
   "cell_type": "code",
   "execution_count": 1,
   "id": "26aed1c5-d71e-4ccb-a3fe-860c3a1d7049",
   "metadata": {},
   "outputs": [],
   "source": [
    "import torch\n",
    "import torch.nn as nn\n",
    "from torchvision import transforms\n",
    "from torchvision import datasets\n",
    "from torch.utils.data import DataLoader\n",
    "from torchsummary import summary\n",
    "from torchvision import models\n",
    "\n",
    "import warnings\n",
    "warnings.filterwarnings(\"ignore\")"
   ]
  },
  {
   "cell_type": "code",
   "execution_count": 27,
   "id": "195c4364-3026-42c6-8837-25f86de7da23",
   "metadata": {},
   "outputs": [],
   "source": [
    "import os\n",
    "import random\n",
    "import matplotlib.pyplot as plt\n",
    "import seaborn as sns\n",
    "import matplotlib.image as mpimg\n",
    "from PIL import Image\n",
    "import cv2"
   ]
  },
  {
   "cell_type": "code",
   "execution_count": 2,
   "id": "835aadc3-820b-42fd-b8e5-921b91e2a4ae",
   "metadata": {},
   "outputs": [
    {
     "name": "stdout",
     "output_type": "stream",
     "text": [
      "Train Directory: ['Aloe', 'Venerina']\n",
      "Test Directory:  ['testa', 'testv']\n",
      "Valid Directory:  ['valida', 'validv']\n"
     ]
    }
   ],
   "source": [
    "from win32com.shell import shell, shellcon\n",
    "import os\n",
    "\n",
    "desktop_path = shell.SHGetKnownFolderPath(shellcon.FOLDERID_Desktop)\n",
    "train_dir = os.path.join(desktop_path, \"flora\")\n",
    "valid_dir = os.path.join(desktop_path, \"valid\")\n",
    "test_dir = os.path.join(desktop_path, \"test\")\n",
    "print(\"Train Directory:\",os.listdir(train_dir))\n",
    "print(\"Test Directory: \", os.listdir(test_dir))\n",
    "print(\"Valid Directory: \", os.listdir(valid_dir))\n",
    "CLASS_NAMES = os.listdir(train_dir)"
   ]
  },
  {
   "cell_type": "code",
   "execution_count": 3,
   "id": "5fb5c670-3951-4b9b-9065-eee282e051b4",
   "metadata": {},
   "outputs": [
    {
     "name": "stdout",
     "output_type": "stream",
     "text": [
      "Training data 1: 396\n",
      "Training data 2: 302\n",
      "Testing data 1: 16\n",
      "Testing data 2: 16\n",
      "Validation data 1: 15\n",
      "Validation data 2: 16\n"
     ]
    }
   ],
   "source": [
    "print(\"Training data 1:\",len(os.listdir(train_dir+'/'+'Aloe')))\n",
    "print(\"Training data 2:\",len(os.listdir(train_dir+'/'+'Venerina')))\n",
    "print(\"Testing data 1:\",len(os.listdir(test_dir+'/'+'testv')))\n",
    "print(\"Testing data 2:\",len(os.listdir(test_dir+'/'+'testa')))\n",
    "print(\"Validation data 1:\",len(os.listdir(valid_dir+'/'+'validv')))\n",
    "print(\"Validation data 2:\",len(os.listdir(valid_dir+'/'+'valida')))"
   ]
  },
  {
   "cell_type": "code",
   "execution_count": 4,
   "id": "4d77a1bb-3eb6-4d21-9b27-7b6d81110dae",
   "metadata": {},
   "outputs": [
    {
     "name": "stdout",
     "output_type": "stream",
     "text": [
      "Collecting imgaug\n",
      "  Downloading imgaug-0.4.0-py2.py3-none-any.whl.metadata (1.8 kB)\n",
      "Requirement already satisfied: six in c:\\users\\tolch\\appdata\\local\\programs\\python\\python312\\lib\\site-packages (from imgaug) (1.16.0)\n",
      "Requirement already satisfied: numpy>=1.15 in c:\\users\\tolch\\appdata\\local\\programs\\python\\python312\\lib\\site-packages (from imgaug) (1.26.4)\n",
      "Requirement already satisfied: scipy in c:\\users\\tolch\\appdata\\local\\programs\\python\\python312\\lib\\site-packages (from imgaug) (1.12.0)\n",
      "Requirement already satisfied: Pillow in c:\\users\\tolch\\appdata\\local\\programs\\python\\python312\\lib\\site-packages (from imgaug) (10.2.0)\n",
      "Requirement already satisfied: matplotlib in c:\\users\\tolch\\appdata\\local\\programs\\python\\python312\\lib\\site-packages (from imgaug) (3.8.2)\n",
      "Collecting scikit-image>=0.14.2 (from imgaug)\n",
      "  Downloading scikit_image-0.23.1-cp312-cp312-win_amd64.whl.metadata (14 kB)\n",
      "Requirement already satisfied: opencv-python in c:\\users\\tolch\\appdata\\local\\programs\\python\\python312\\lib\\site-packages (from imgaug) (4.9.0.80)\n",
      "Collecting imageio (from imgaug)\n",
      "  Downloading imageio-2.34.0-py3-none-any.whl.metadata (4.9 kB)\n",
      "Collecting Shapely (from imgaug)\n",
      "  Downloading shapely-2.0.3-cp312-cp312-win_amd64.whl.metadata (7.2 kB)\n",
      "Requirement already satisfied: networkx>=2.8 in c:\\users\\tolch\\appdata\\local\\programs\\python\\python312\\lib\\site-packages (from scikit-image>=0.14.2->imgaug) (3.3)\n",
      "Collecting tifffile>=2022.8.12 (from scikit-image>=0.14.2->imgaug)\n",
      "  Downloading tifffile-2024.2.12-py3-none-any.whl.metadata (31 kB)\n",
      "Requirement already satisfied: packaging>=21 in c:\\users\\tolch\\appdata\\local\\programs\\python\\python312\\lib\\site-packages (from scikit-image>=0.14.2->imgaug) (23.2)\n",
      "Collecting lazy-loader>=0.4 (from scikit-image>=0.14.2->imgaug)\n",
      "  Downloading lazy_loader-0.4-py3-none-any.whl.metadata (7.6 kB)\n",
      "Requirement already satisfied: contourpy>=1.0.1 in c:\\users\\tolch\\appdata\\local\\programs\\python\\python312\\lib\\site-packages (from matplotlib->imgaug) (1.2.0)\n",
      "Requirement already satisfied: cycler>=0.10 in c:\\users\\tolch\\appdata\\local\\programs\\python\\python312\\lib\\site-packages (from matplotlib->imgaug) (0.12.1)\n",
      "Requirement already satisfied: fonttools>=4.22.0 in c:\\users\\tolch\\appdata\\local\\programs\\python\\python312\\lib\\site-packages (from matplotlib->imgaug) (4.48.1)\n",
      "Requirement already satisfied: kiwisolver>=1.3.1 in c:\\users\\tolch\\appdata\\local\\programs\\python\\python312\\lib\\site-packages (from matplotlib->imgaug) (1.4.5)\n",
      "Requirement already satisfied: pyparsing>=2.3.1 in c:\\users\\tolch\\appdata\\local\\programs\\python\\python312\\lib\\site-packages (from matplotlib->imgaug) (3.1.1)\n",
      "Requirement already satisfied: python-dateutil>=2.7 in c:\\users\\tolch\\appdata\\local\\programs\\python\\python312\\lib\\site-packages (from matplotlib->imgaug) (2.8.2)\n",
      "Downloading imgaug-0.4.0-py2.py3-none-any.whl (948 kB)\n",
      "   ---------------------------------------- 0.0/948.0 kB ? eta -:--:--\n",
      "   -- ------------------------------------- 61.4/948.0 kB 3.2 MB/s eta 0:00:01\n",
      "   --------- ------------------------------ 225.3/948.0 kB 2.8 MB/s eta 0:00:01\n",
      "   -------------- ------------------------- 348.2/948.0 kB 2.7 MB/s eta 0:00:01\n",
      "   ------------------------------- -------- 757.8/948.0 kB 4.3 MB/s eta 0:00:01\n",
      "   ---------------------------------------- 948.0/948.0 kB 4.6 MB/s eta 0:00:00\n",
      "Downloading scikit_image-0.23.1-cp312-cp312-win_amd64.whl (12.8 MB)\n",
      "   ---------------------------------------- 0.0/12.8 MB ? eta -:--:--\n",
      "    --------------------------------------- 0.3/12.8 MB ? eta -:--:--\n",
      "   - -------------------------------------- 0.5/12.8 MB 6.0 MB/s eta 0:00:03\n",
      "   ---- ----------------------------------- 1.5/12.8 MB 13.2 MB/s eta 0:00:01\n",
      "   ----- ---------------------------------- 1.8/12.8 MB 11.2 MB/s eta 0:00:01\n",
      "   ------ --------------------------------- 2.0/12.8 MB 9.7 MB/s eta 0:00:02\n",
      "   ------ --------------------------------- 2.2/12.8 MB 9.4 MB/s eta 0:00:02\n",
      "   ------ --------------------------------- 2.2/12.8 MB 9.4 MB/s eta 0:00:02\n",
      "   -------- ------------------------------- 2.8/12.8 MB 8.2 MB/s eta 0:00:02\n",
      "   --------- ------------------------------ 2.9/12.8 MB 8.1 MB/s eta 0:00:02\n",
      "   --------- ------------------------------ 3.0/12.8 MB 7.4 MB/s eta 0:00:02\n",
      "   ---------- ----------------------------- 3.4/12.8 MB 7.0 MB/s eta 0:00:02\n",
      "   ---------- ----------------------------- 3.4/12.8 MB 7.0 MB/s eta 0:00:02\n",
      "   ----------- ---------------------------- 3.7/12.8 MB 6.5 MB/s eta 0:00:02\n",
      "   ------------ --------------------------- 4.1/12.8 MB 6.6 MB/s eta 0:00:02\n",
      "   -------------- ------------------------- 4.6/12.8 MB 6.8 MB/s eta 0:00:02\n",
      "   --------------- ------------------------ 5.0/12.8 MB 7.0 MB/s eta 0:00:02\n",
      "   ---------------- ----------------------- 5.3/12.8 MB 7.0 MB/s eta 0:00:02\n",
      "   ----------------- ---------------------- 5.7/12.8 MB 7.0 MB/s eta 0:00:02\n",
      "   ------------------- -------------------- 6.1/12.8 MB 7.1 MB/s eta 0:00:01\n",
      "   ------------------- -------------------- 6.4/12.8 MB 7.0 MB/s eta 0:00:01\n",
      "   -------------------- ------------------- 6.7/12.8 MB 7.1 MB/s eta 0:00:01\n",
      "   --------------------- ------------------ 6.9/12.8 MB 6.9 MB/s eta 0:00:01\n",
      "   ---------------------- ----------------- 7.2/12.8 MB 6.9 MB/s eta 0:00:01\n",
      "   ----------------------- ---------------- 7.6/12.8 MB 6.9 MB/s eta 0:00:01\n",
      "   ------------------------ --------------- 7.8/12.8 MB 6.9 MB/s eta 0:00:01\n",
      "   ------------------------- -------------- 8.1/12.8 MB 6.9 MB/s eta 0:00:01\n",
      "   -------------------------- ------------- 8.5/12.8 MB 6.9 MB/s eta 0:00:01\n",
      "   --------------------------- ------------ 8.9/12.8 MB 7.0 MB/s eta 0:00:01\n",
      "   ---------------------------- ----------- 9.1/12.8 MB 6.9 MB/s eta 0:00:01\n",
      "   ----------------------------- ---------- 9.4/12.8 MB 6.9 MB/s eta 0:00:01\n",
      "   ------------------------------ --------- 9.6/12.8 MB 6.8 MB/s eta 0:00:01\n",
      "   ------------------------------- -------- 10.1/12.8 MB 6.9 MB/s eta 0:00:01\n",
      "   ------------------------------- -------- 10.2/12.8 MB 6.9 MB/s eta 0:00:01\n",
      "   --------------------------------- ------ 10.6/12.8 MB 6.9 MB/s eta 0:00:01\n",
      "   ---------------------------------- ----- 11.1/12.8 MB 6.8 MB/s eta 0:00:01\n",
      "   ------------------------------------ --- 11.6/12.8 MB 6.7 MB/s eta 0:00:01\n",
      "   ------------------------------------- -- 12.1/12.8 MB 6.8 MB/s eta 0:00:01\n",
      "   ---------------------------------------  12.6/12.8 MB 7.3 MB/s eta 0:00:01\n",
      "   ---------------------------------------  12.7/12.8 MB 7.3 MB/s eta 0:00:01\n",
      "   ---------------------------------------  12.8/12.8 MB 6.9 MB/s eta 0:00:01\n",
      "   ---------------------------------------- 12.8/12.8 MB 6.8 MB/s eta 0:00:00\n",
      "Downloading imageio-2.34.0-py3-none-any.whl (313 kB)\n",
      "   ---------------------------------------- 0.0/313.4 kB ? eta -:--:--\n",
      "   ---------------------------------------- 313.4/313.4 kB 9.8 MB/s eta 0:00:00\n",
      "Downloading shapely-2.0.3-cp312-cp312-win_amd64.whl (1.4 MB)\n",
      "   ---------------------------------------- 0.0/1.4 MB ? eta -:--:--\n",
      "   ------------ --------------------------- 0.5/1.4 MB 14.2 MB/s eta 0:00:01\n",
      "   --------------------------- ------------ 1.0/1.4 MB 12.3 MB/s eta 0:00:01\n",
      "   ---------------------------------------  1.4/1.4 MB 11.4 MB/s eta 0:00:01\n",
      "   ---------------------------------------- 1.4/1.4 MB 11.4 MB/s eta 0:00:00\n",
      "Downloading lazy_loader-0.4-py3-none-any.whl (12 kB)\n",
      "Downloading tifffile-2024.2.12-py3-none-any.whl (224 kB)\n",
      "   ---------------------------------------- 0.0/224.5 kB ? eta -:--:--\n",
      "   --------------------------------------- 224.5/224.5 kB 13.4 MB/s eta 0:00:00\n",
      "Installing collected packages: tifffile, Shapely, lazy-loader, imageio, scikit-image, imgaug\n",
      "Successfully installed Shapely-2.0.3 imageio-2.34.0 imgaug-0.4.0 lazy-loader-0.4 scikit-image-0.23.1 tifffile-2024.2.12\n"
     ]
    }
   ],
   "source": [
    "!pip install imgaug"
   ]
  },
  {
   "cell_type": "code",
   "execution_count": 8,
   "id": "8868840c-dc8e-4b27-a61a-5093faf7b74d",
   "metadata": {},
   "outputs": [],
   "source": [
    "import numpy as np\n",
    "import imgaug as ia\n",
    "from imgaug import augmenters as iaa"
   ]
  },
  {
   "cell_type": "code",
   "execution_count": 38,
   "id": "c512176d-0cd8-4b36-8a67-0ea89537b6a8",
   "metadata": {},
   "outputs": [],
   "source": [
    "ia.seed(1)\n",
    "\n",
    "# Example batch of images.\n",
    "# The array has shape (32, 64, 64, 3) and dtype uint8.\n",
    "\n",
    "images = np.array(\n",
    "    [ia.quokka(size=(64, 64)) for _ in range(32)],\n",
    "    dtype=np.uint8\n",
    ")\n",
    "\n",
    "seq = iaa.Sequential([\n",
    "    iaa.Fliplr(0.5), # horizontal flips\n",
    "    iaa.Crop(percent=(0, 0.1)), # random crops\n",
    "    # Small gaussian blur with random sigma between 0 and 0.5.\n",
    "    # But we only blur about 50% of all images.\n",
    "    iaa.Sometimes(\n",
    "        0.5,\n",
    "        iaa.GaussianBlur(sigma=(0, 0.5))\n",
    "    ),\n",
    "    # Strengthen or weaken the contrast in each image.\n",
    "    iaa.LinearContrast((0.75, 1.5)),\n",
    "    # Add gaussian noise.\n",
    "    # For 50% of all images, we sample the noise once per pixel.\n",
    "    # For the other 50% of all images, we sample the noise per pixel AND\n",
    "    # channel. This can change the color (not only brightness) of the\n",
    "    # pixels.\n",
    "    iaa.AdditiveGaussianNoise(loc=0, scale=(0.0, 0.05*255), per_channel=0.5),\n",
    "    # Make some images brighter and some darker.\n",
    "    # In 20% of all cases, we sample the multiplier once per channel,\n",
    "    # which can end up changing the color of the images.\n",
    "    iaa.Multiply((0.8, 1.2), per_channel=0.2),\n",
    "    # Apply affine transformations to each image.\n",
    "    # Scale/zoom them, translate/move them, rotate them and shear them.\n",
    "    iaa.Affine(\n",
    "        scale={\"x\": (0.8, 1.2), \"y\": (0.8, 1.2)},\n",
    "        translate_percent={\"x\": (-0.2, 0.2), \"y\": (-0.2, 0.2)},\n",
    "        rotate=(-25, 25),\n",
    "        shear=(-8, 8)\n",
    "    )\n",
    "], random_order=True) # apply augmenters in random order\n",
    "\n"
   ]
  },
  {
   "cell_type": "code",
   "execution_count": 39,
   "id": "abd7d9d3-90af-4394-9ae0-ff6af4f4c4f8",
   "metadata": {},
   "outputs": [
    {
     "ename": "AttributeError",
     "evalue": "module 'numpy' has no attribute 'bool'.\n`np.bool` was a deprecated alias for the builtin `bool`. To avoid this error in existing code, use `bool` by itself. Doing this will not modify any behavior and is safe. If you specifically wanted the numpy scalar type, use `np.bool_` here.\nThe aliases was originally deprecated in NumPy 1.20; for more details and guidance see the original release note at:\n    https://numpy.org/devdocs/release/1.20.0-notes.html#deprecations",
     "output_type": "error",
     "traceback": [
      "\u001b[1;31m---------------------------------------------------------------------------\u001b[0m",
      "\u001b[1;31mAttributeError\u001b[0m                            Traceback (most recent call last)",
      "Cell \u001b[1;32mIn[39], line 9\u001b[0m\n\u001b[0;32m      6\u001b[0m image \u001b[38;5;241m=\u001b[39m cv2\u001b[38;5;241m.\u001b[39mimread(image_path)\n\u001b[0;32m      8\u001b[0m \u001b[38;5;66;03m# Применение аугментаций к изображению\u001b[39;00m\n\u001b[1;32m----> 9\u001b[0m augmented_image \u001b[38;5;241m=\u001b[39m \u001b[43mseq\u001b[49m\u001b[43m(\u001b[49m\u001b[43mimage\u001b[49m\u001b[38;5;241;43m=\u001b[39;49m\u001b[43mimage\u001b[49m\u001b[43m)\u001b[49m\n\u001b[0;32m     11\u001b[0m \u001b[38;5;66;03m# Сохранение аугментированного изображения\u001b[39;00m\n\u001b[0;32m     12\u001b[0m augmented_filename \u001b[38;5;241m=\u001b[39m \u001b[38;5;124m'\u001b[39m\u001b[38;5;124maugmented_\u001b[39m\u001b[38;5;124m'\u001b[39m \u001b[38;5;241m+\u001b[39m filename\n",
      "File \u001b[1;32m~\\AppData\\Local\\Programs\\Python\\Python312\\Lib\\site-packages\\imgaug\\augmenters\\meta.py:2008\u001b[0m, in \u001b[0;36mAugmenter.__call__\u001b[1;34m(self, *args, **kwargs)\u001b[0m\n\u001b[0;32m   2006\u001b[0m \u001b[38;5;28;01mdef\u001b[39;00m \u001b[38;5;21m__call__\u001b[39m(\u001b[38;5;28mself\u001b[39m, \u001b[38;5;241m*\u001b[39margs, \u001b[38;5;241m*\u001b[39m\u001b[38;5;241m*\u001b[39mkwargs):\n\u001b[0;32m   2007\u001b[0m \u001b[38;5;250m    \u001b[39m\u001b[38;5;124;03m\"\"\"Alias for :func:`~imgaug.augmenters.meta.Augmenter.augment`.\"\"\"\u001b[39;00m\n\u001b[1;32m-> 2008\u001b[0m     \u001b[38;5;28;01mreturn\u001b[39;00m \u001b[38;5;28;43mself\u001b[39;49m\u001b[38;5;241;43m.\u001b[39;49m\u001b[43maugment\u001b[49m\u001b[43m(\u001b[49m\u001b[38;5;241;43m*\u001b[39;49m\u001b[43margs\u001b[49m\u001b[43m,\u001b[49m\u001b[43m \u001b[49m\u001b[38;5;241;43m*\u001b[39;49m\u001b[38;5;241;43m*\u001b[39;49m\u001b[43mkwargs\u001b[49m\u001b[43m)\u001b[49m\n",
      "File \u001b[1;32m~\\AppData\\Local\\Programs\\Python\\Python312\\Lib\\site-packages\\imgaug\\augmenters\\meta.py:1979\u001b[0m, in \u001b[0;36mAugmenter.augment\u001b[1;34m(self, return_batch, hooks, **kwargs)\u001b[0m\n\u001b[0;32m   1968\u001b[0m \u001b[38;5;66;03m# augment batch\u001b[39;00m\n\u001b[0;32m   1969\u001b[0m batch \u001b[38;5;241m=\u001b[39m UnnormalizedBatch(\n\u001b[0;32m   1970\u001b[0m     images\u001b[38;5;241m=\u001b[39mimages,\n\u001b[0;32m   1971\u001b[0m     heatmaps\u001b[38;5;241m=\u001b[39mkwargs\u001b[38;5;241m.\u001b[39mget(\u001b[38;5;124m\"\u001b[39m\u001b[38;5;124mheatmaps\u001b[39m\u001b[38;5;124m\"\u001b[39m, \u001b[38;5;28;01mNone\u001b[39;00m),\n\u001b[1;32m   (...)\u001b[0m\n\u001b[0;32m   1976\u001b[0m     line_strings\u001b[38;5;241m=\u001b[39mkwargs\u001b[38;5;241m.\u001b[39mget(\u001b[38;5;124m\"\u001b[39m\u001b[38;5;124mline_strings\u001b[39m\u001b[38;5;124m\"\u001b[39m, \u001b[38;5;28;01mNone\u001b[39;00m)\n\u001b[0;32m   1977\u001b[0m )\n\u001b[1;32m-> 1979\u001b[0m batch_aug \u001b[38;5;241m=\u001b[39m \u001b[38;5;28;43mself\u001b[39;49m\u001b[38;5;241;43m.\u001b[39;49m\u001b[43maugment_batch_\u001b[49m\u001b[43m(\u001b[49m\u001b[43mbatch\u001b[49m\u001b[43m,\u001b[49m\u001b[43m \u001b[49m\u001b[43mhooks\u001b[49m\u001b[38;5;241;43m=\u001b[39;49m\u001b[43mhooks\u001b[49m\u001b[43m)\u001b[49m\n\u001b[0;32m   1981\u001b[0m \u001b[38;5;66;03m# return either batch or tuple of augmentables, depending on what\u001b[39;00m\n\u001b[0;32m   1982\u001b[0m \u001b[38;5;66;03m# was requested by user\u001b[39;00m\n\u001b[0;32m   1983\u001b[0m \u001b[38;5;28;01mif\u001b[39;00m return_batch:\n",
      "File \u001b[1;32m~\\AppData\\Local\\Programs\\Python\\Python312\\Lib\\site-packages\\imgaug\\augmenters\\meta.py:641\u001b[0m, in \u001b[0;36mAugmenter.augment_batch_\u001b[1;34m(self, batch, parents, hooks)\u001b[0m\n\u001b[0;32m    639\u001b[0m \u001b[38;5;28;01mwith\u001b[39;00m _maybe_deterministic_ctx(\u001b[38;5;28mself\u001b[39m):\n\u001b[0;32m    640\u001b[0m     \u001b[38;5;28;01mif\u001b[39;00m \u001b[38;5;129;01mnot\u001b[39;00m batch_inaug\u001b[38;5;241m.\u001b[39mempty:\n\u001b[1;32m--> 641\u001b[0m         batch_inaug \u001b[38;5;241m=\u001b[39m \u001b[38;5;28;43mself\u001b[39;49m\u001b[38;5;241;43m.\u001b[39;49m\u001b[43m_augment_batch_\u001b[49m\u001b[43m(\u001b[49m\n\u001b[0;32m    642\u001b[0m \u001b[43m            \u001b[49m\u001b[43mbatch_inaug\u001b[49m\u001b[43m,\u001b[49m\n\u001b[0;32m    643\u001b[0m \u001b[43m            \u001b[49m\u001b[43mrandom_state\u001b[49m\u001b[38;5;241;43m=\u001b[39;49m\u001b[38;5;28;43mself\u001b[39;49m\u001b[38;5;241;43m.\u001b[39;49m\u001b[43mrandom_state\u001b[49m\u001b[43m,\u001b[49m\n\u001b[0;32m    644\u001b[0m \u001b[43m            \u001b[49m\u001b[43mparents\u001b[49m\u001b[38;5;241;43m=\u001b[39;49m\u001b[43mparents\u001b[49m\u001b[43m \u001b[49m\u001b[38;5;28;43;01mif\u001b[39;49;00m\u001b[43m \u001b[49m\u001b[43mparents\u001b[49m\u001b[43m \u001b[49m\u001b[38;5;129;43;01mis\u001b[39;49;00m\u001b[43m \u001b[49m\u001b[38;5;129;43;01mnot\u001b[39;49;00m\u001b[43m \u001b[49m\u001b[38;5;28;43;01mNone\u001b[39;49;00m\u001b[43m \u001b[49m\u001b[38;5;28;43;01melse\u001b[39;49;00m\u001b[43m \u001b[49m\u001b[43m[\u001b[49m\u001b[43m]\u001b[49m\u001b[43m,\u001b[49m\n\u001b[0;32m    645\u001b[0m \u001b[43m            \u001b[49m\u001b[43mhooks\u001b[49m\u001b[38;5;241;43m=\u001b[39;49m\u001b[43mhooks\u001b[49m\u001b[43m)\u001b[49m\n\u001b[0;32m    647\u001b[0m \u001b[38;5;66;03m# revert augmentables being set to None for non-activated augmenters\u001b[39;00m\n\u001b[0;32m    648\u001b[0m \u001b[38;5;28;01mfor\u001b[39;00m column \u001b[38;5;129;01min\u001b[39;00m set_to_none:\n",
      "File \u001b[1;32m~\\AppData\\Local\\Programs\\Python\\Python312\\Lib\\site-packages\\imgaug\\augmenters\\meta.py:3124\u001b[0m, in \u001b[0;36mSequential._augment_batch_\u001b[1;34m(self, batch, random_state, parents, hooks)\u001b[0m\n\u001b[0;32m   3121\u001b[0m         order \u001b[38;5;241m=\u001b[39m sm\u001b[38;5;241m.\u001b[39mxrange(\u001b[38;5;28mlen\u001b[39m(\u001b[38;5;28mself\u001b[39m))\n\u001b[0;32m   3123\u001b[0m     \u001b[38;5;28;01mfor\u001b[39;00m index \u001b[38;5;129;01min\u001b[39;00m order:\n\u001b[1;32m-> 3124\u001b[0m         batch \u001b[38;5;241m=\u001b[39m \u001b[38;5;28;43mself\u001b[39;49m\u001b[43m[\u001b[49m\u001b[43mindex\u001b[49m\u001b[43m]\u001b[49m\u001b[38;5;241;43m.\u001b[39;49m\u001b[43maugment_batch_\u001b[49m\u001b[43m(\u001b[49m\n\u001b[0;32m   3125\u001b[0m \u001b[43m            \u001b[49m\u001b[43mbatch\u001b[49m\u001b[43m,\u001b[49m\n\u001b[0;32m   3126\u001b[0m \u001b[43m            \u001b[49m\u001b[43mparents\u001b[49m\u001b[38;5;241;43m=\u001b[39;49m\u001b[43mparents\u001b[49m\u001b[43m \u001b[49m\u001b[38;5;241;43m+\u001b[39;49m\u001b[43m \u001b[49m\u001b[43m[\u001b[49m\u001b[38;5;28;43mself\u001b[39;49m\u001b[43m]\u001b[49m\u001b[43m,\u001b[49m\n\u001b[0;32m   3127\u001b[0m \u001b[43m            \u001b[49m\u001b[43mhooks\u001b[49m\u001b[38;5;241;43m=\u001b[39;49m\u001b[43mhooks\u001b[49m\n\u001b[0;32m   3128\u001b[0m \u001b[43m        \u001b[49m\u001b[43m)\u001b[49m\n\u001b[0;32m   3129\u001b[0m \u001b[38;5;28;01mreturn\u001b[39;00m batch\n",
      "File \u001b[1;32m~\\AppData\\Local\\Programs\\Python\\Python312\\Lib\\site-packages\\imgaug\\augmenters\\meta.py:641\u001b[0m, in \u001b[0;36mAugmenter.augment_batch_\u001b[1;34m(self, batch, parents, hooks)\u001b[0m\n\u001b[0;32m    639\u001b[0m \u001b[38;5;28;01mwith\u001b[39;00m _maybe_deterministic_ctx(\u001b[38;5;28mself\u001b[39m):\n\u001b[0;32m    640\u001b[0m     \u001b[38;5;28;01mif\u001b[39;00m \u001b[38;5;129;01mnot\u001b[39;00m batch_inaug\u001b[38;5;241m.\u001b[39mempty:\n\u001b[1;32m--> 641\u001b[0m         batch_inaug \u001b[38;5;241m=\u001b[39m \u001b[38;5;28;43mself\u001b[39;49m\u001b[38;5;241;43m.\u001b[39;49m\u001b[43m_augment_batch_\u001b[49m\u001b[43m(\u001b[49m\n\u001b[0;32m    642\u001b[0m \u001b[43m            \u001b[49m\u001b[43mbatch_inaug\u001b[49m\u001b[43m,\u001b[49m\n\u001b[0;32m    643\u001b[0m \u001b[43m            \u001b[49m\u001b[43mrandom_state\u001b[49m\u001b[38;5;241;43m=\u001b[39;49m\u001b[38;5;28;43mself\u001b[39;49m\u001b[38;5;241;43m.\u001b[39;49m\u001b[43mrandom_state\u001b[49m\u001b[43m,\u001b[49m\n\u001b[0;32m    644\u001b[0m \u001b[43m            \u001b[49m\u001b[43mparents\u001b[49m\u001b[38;5;241;43m=\u001b[39;49m\u001b[43mparents\u001b[49m\u001b[43m \u001b[49m\u001b[38;5;28;43;01mif\u001b[39;49;00m\u001b[43m \u001b[49m\u001b[43mparents\u001b[49m\u001b[43m \u001b[49m\u001b[38;5;129;43;01mis\u001b[39;49;00m\u001b[43m \u001b[49m\u001b[38;5;129;43;01mnot\u001b[39;49;00m\u001b[43m \u001b[49m\u001b[38;5;28;43;01mNone\u001b[39;49;00m\u001b[43m \u001b[49m\u001b[38;5;28;43;01melse\u001b[39;49;00m\u001b[43m \u001b[49m\u001b[43m[\u001b[49m\u001b[43m]\u001b[49m\u001b[43m,\u001b[49m\n\u001b[0;32m    645\u001b[0m \u001b[43m            \u001b[49m\u001b[43mhooks\u001b[49m\u001b[38;5;241;43m=\u001b[39;49m\u001b[43mhooks\u001b[49m\u001b[43m)\u001b[49m\n\u001b[0;32m    647\u001b[0m \u001b[38;5;66;03m# revert augmentables being set to None for non-activated augmenters\u001b[39;00m\n\u001b[0;32m    648\u001b[0m \u001b[38;5;28;01mfor\u001b[39;00m column \u001b[38;5;129;01min\u001b[39;00m set_to_none:\n",
      "File \u001b[1;32m~\\AppData\\Local\\Programs\\Python\\Python312\\Lib\\site-packages\\imgaug\\augmenters\\meta.py:3395\u001b[0m, in \u001b[0;36mSomeOf._augment_batch_\u001b[1;34m(self, batch, random_state, parents, hooks)\u001b[0m\n\u001b[0;32m   3386\u001b[0m augmenter_order \u001b[38;5;241m=\u001b[39m \u001b[38;5;28mself\u001b[39m\u001b[38;5;241m.\u001b[39m_get_augmenter_order(random_state)\n\u001b[0;32m   3388\u001b[0m \u001b[38;5;66;03m# create an array of active augmenters per image\u001b[39;00m\n\u001b[0;32m   3389\u001b[0m \u001b[38;5;66;03m# e.g.\u001b[39;00m\n\u001b[0;32m   3390\u001b[0m \u001b[38;5;66;03m#  [[0, 0, 1],\u001b[39;00m\n\u001b[1;32m   (...)\u001b[0m\n\u001b[0;32m   3393\u001b[0m \u001b[38;5;66;03m# would signal, that augmenter 3 is active for the first image,\u001b[39;00m\n\u001b[0;32m   3394\u001b[0m \u001b[38;5;66;03m# augmenter 1 and 3 for the 2nd image and augmenter 1 for the 3rd.\u001b[39;00m\n\u001b[1;32m-> 3395\u001b[0m augmenter_active \u001b[38;5;241m=\u001b[39m \u001b[38;5;28;43mself\u001b[39;49m\u001b[38;5;241;43m.\u001b[39;49m\u001b[43m_get_augmenter_active\u001b[49m\u001b[43m(\u001b[49m\u001b[43mbatch\u001b[49m\u001b[38;5;241;43m.\u001b[39;49m\u001b[43mnb_rows\u001b[49m\u001b[43m,\u001b[49m\n\u001b[0;32m   3396\u001b[0m \u001b[43m                                              \u001b[49m\u001b[43mrandom_state\u001b[49m\u001b[43m)\u001b[49m\n\u001b[0;32m   3398\u001b[0m \u001b[38;5;28;01mfor\u001b[39;00m augmenter_index \u001b[38;5;129;01min\u001b[39;00m augmenter_order:\n\u001b[0;32m   3399\u001b[0m     active \u001b[38;5;241m=\u001b[39m augmenter_active[:, augmenter_index]\u001b[38;5;241m.\u001b[39mnonzero()[\u001b[38;5;241m0\u001b[39m]\n",
      "File \u001b[1;32m~\\AppData\\Local\\Programs\\Python\\Python312\\Lib\\site-packages\\imgaug\\augmenters\\meta.py:3368\u001b[0m, in \u001b[0;36mSomeOf._get_augmenter_active\u001b[1;34m(self, nb_rows, random_state)\u001b[0m\n\u001b[0;32m   3366\u001b[0m nn \u001b[38;5;241m=\u001b[39m \u001b[38;5;28mself\u001b[39m\u001b[38;5;241m.\u001b[39m_get_n(nb_rows, random_state)\n\u001b[0;32m   3367\u001b[0m nn \u001b[38;5;241m=\u001b[39m [\u001b[38;5;28mmin\u001b[39m(n, \u001b[38;5;28mlen\u001b[39m(\u001b[38;5;28mself\u001b[39m)) \u001b[38;5;28;01mfor\u001b[39;00m n \u001b[38;5;129;01min\u001b[39;00m nn]\n\u001b[1;32m-> 3368\u001b[0m augmenter_active \u001b[38;5;241m=\u001b[39m np\u001b[38;5;241m.\u001b[39mzeros((nb_rows, \u001b[38;5;28mlen\u001b[39m(\u001b[38;5;28mself\u001b[39m)), dtype\u001b[38;5;241m=\u001b[39m\u001b[43mnp\u001b[49m\u001b[38;5;241;43m.\u001b[39;49m\u001b[43mbool\u001b[49m)\n\u001b[0;32m   3369\u001b[0m \u001b[38;5;28;01mfor\u001b[39;00m row_idx, n_true \u001b[38;5;129;01min\u001b[39;00m \u001b[38;5;28menumerate\u001b[39m(nn):\n\u001b[0;32m   3370\u001b[0m     \u001b[38;5;28;01mif\u001b[39;00m n_true \u001b[38;5;241m>\u001b[39m \u001b[38;5;241m0\u001b[39m:\n",
      "File \u001b[1;32m~\\AppData\\Local\\Programs\\Python\\Python312\\Lib\\site-packages\\numpy\\__init__.py:338\u001b[0m, in \u001b[0;36m__getattr__\u001b[1;34m(attr)\u001b[0m\n\u001b[0;32m    333\u001b[0m     warnings\u001b[38;5;241m.\u001b[39mwarn(\n\u001b[0;32m    334\u001b[0m         \u001b[38;5;124mf\u001b[39m\u001b[38;5;124m\"\u001b[39m\u001b[38;5;124mIn the future `np.\u001b[39m\u001b[38;5;132;01m{\u001b[39;00mattr\u001b[38;5;132;01m}\u001b[39;00m\u001b[38;5;124m` will be defined as the \u001b[39m\u001b[38;5;124m\"\u001b[39m\n\u001b[0;32m    335\u001b[0m         \u001b[38;5;124m\"\u001b[39m\u001b[38;5;124mcorresponding NumPy scalar.\u001b[39m\u001b[38;5;124m\"\u001b[39m, \u001b[38;5;167;01mFutureWarning\u001b[39;00m, stacklevel\u001b[38;5;241m=\u001b[39m\u001b[38;5;241m2\u001b[39m)\n\u001b[0;32m    337\u001b[0m \u001b[38;5;28;01mif\u001b[39;00m attr \u001b[38;5;129;01min\u001b[39;00m __former_attrs__:\n\u001b[1;32m--> 338\u001b[0m     \u001b[38;5;28;01mraise\u001b[39;00m \u001b[38;5;167;01mAttributeError\u001b[39;00m(__former_attrs__[attr])\n\u001b[0;32m    340\u001b[0m \u001b[38;5;28;01mif\u001b[39;00m attr \u001b[38;5;241m==\u001b[39m \u001b[38;5;124m'\u001b[39m\u001b[38;5;124mtesting\u001b[39m\u001b[38;5;124m'\u001b[39m:\n\u001b[0;32m    341\u001b[0m     \u001b[38;5;28;01mimport\u001b[39;00m \u001b[38;5;21;01mnumpy\u001b[39;00m\u001b[38;5;21;01m.\u001b[39;00m\u001b[38;5;21;01mtesting\u001b[39;00m \u001b[38;5;28;01mas\u001b[39;00m \u001b[38;5;21;01mtesting\u001b[39;00m\n",
      "\u001b[1;31mAttributeError\u001b[0m: module 'numpy' has no attribute 'bool'.\n`np.bool` was a deprecated alias for the builtin `bool`. To avoid this error in existing code, use `bool` by itself. Doing this will not modify any behavior and is safe. If you specifically wanted the numpy scalar type, use `np.bool_` here.\nThe aliases was originally deprecated in NumPy 1.20; for more details and guidance see the original release note at:\n    https://numpy.org/devdocs/release/1.20.0-notes.html#deprecations"
     ]
    }
   ],
   "source": [
    "\n",
    "foldername_aloe = os.path.join(train_dir,'Aloe')\n",
    "for filename in os.listdir(foldername_aloe):\n",
    "    if filename.endswith('.jpg') or filename.endswith('.jpeg') or filename.endswith('.png'):\n",
    "    # Загрузка изображения\n",
    "        image_path = os.path.join(foldername_aloe, filename)\n",
    "        image = cv2.imread(image_path)\n",
    "        \n",
    "        # Применение аугментаций к изображению\n",
    "        augmented_image = seq(image=image)\n",
    "        \n",
    "        # Сохранение аугментированного изображения\n",
    "        augmented_filename = 'augmented_' + filename\n",
    "        augmented_image_path = os.path.join(foldername_aloe, augmented_filename)\n",
    "        cv2.imwrite(augmented_image_path, augmented_image)\n",
    "\n",
    "print(\"Аугментация завершена.\")\n"
   ]
  },
  {
   "cell_type": "code",
   "execution_count": null,
   "id": "657111c8-3585-4780-be58-12628091683b",
   "metadata": {},
   "outputs": [],
   "source": []
  }
 ],
 "metadata": {
  "kernelspec": {
   "display_name": "Python 3 (ipykernel)",
   "language": "python",
   "name": "python3"
  },
  "language_info": {
   "codemirror_mode": {
    "name": "ipython",
    "version": 3
   },
   "file_extension": ".py",
   "mimetype": "text/x-python",
   "name": "python",
   "nbconvert_exporter": "python",
   "pygments_lexer": "ipython3",
   "version": "3.12.1"
  }
 },
 "nbformat": 4,
 "nbformat_minor": 5
}
